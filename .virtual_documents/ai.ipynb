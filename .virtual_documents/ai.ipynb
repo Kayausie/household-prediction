import pandas as pd
import numpy as np #remove maybe
import seaborn as sns
import matplotlib.pyplot as plt
from sklearn.model_selection import train_test_split
from sklearn.linear_model import LinearRegression
from sklearn.metrics import mean_squared_error, r2_score, mean_absolute_error
from datetime import datetime


sns.set_theme(style="darkgrid")
# read dataset
path = './Melbourne_housing.csv'
melb_data = pd.read_csv(path)








melb_data.info()


melb_data.dropna(inplace=True)
current_year = datetime.now().year

# Create a new column 'age' by subtracting 'yearbuilt' from the current year
melb_data['Age'] = current_year - melb_data['YearBuilt']
melb_data['Price_in_Thousands'] = melb_data['Price'] / 1000





Q1 = melb_data['Price'].quantile(0.25)
Q2 = melb_data['Price'].quantile(0.5)
Q3 = melb_data['Price'].quantile(0.75)
IQR = Q3 - Q1
lower_bound = Q1 - 1.5 * IQR
upper_bound = Q3 + 1.5 * IQR

print(upper_bound)
print(lower_bound)

outliers = melb_data[(melb_data['Price'] < lower_bound) | (melb_data['Price'] > upper_bound)]
for price in outliers['Price'].tolist():
    melb_data = melb_data[melb_data['Price'] != price]


# scatter plot - DistanceToCBD and Price
# plotting

plt.figure(figsize=(10, 6))  # set the size of the plot
sns.scatterplot(data=melb_data, x='Distance', y='Price_in_Thousands', alpha=0.6)
# adding title and labels
plt.title('Scatter Plot of Price vs. Distance to CBD')
plt.xlabel('Distance to CBD (km)')
plt.ylabel('Price (xK e.g 2000k = 2 million)')
plt.grid(True)
plt.show()

# scatter plot - Bathroom and Price
# plotting
plt.figure(figsize=(10, 6))  # set the size of the plot
sns.scatterplot(data=melb_data, x='Bathroom', y='Price_in_Thousands', alpha=0.6)
# adding title and labels
plt.title('Scatter Plot of Price vs. Amount of Bathroom(s)')
plt.xlabel('Bathroom (Count)')
plt.ylabel('Price (xK e.g 2000k = 2 million)')
plt.grid(True)
plt.show()

# scatter plot - Landsize and price
# plotting
plt.figure(figsize=(10, 6))  # set the size of the plot
sns.scatterplot(data=melb_data, x='Landsize', y='Price_in_Thousands', alpha=0.6)
# adding title and labels
plt.title('Scatter Plot of Price vs. Landsize')
plt.xlabel('Landsize (m)')
plt.ylabel('Price (xK e.g 2000k = 2 million)')
plt.grid(True)
plt.show()


# plot heatmap
melb_data=melb_data.select_dtypes(exclude=[object])

num_cols = ['Bedroom', 'Price', 'Distance', 'Landsize']
test = melb_data[num_cols]

plt.figure(figsize=(10, 16))
corr_matrix = test.corr()
sns.heatmap(corr_matrix, annot=True, cmap='coolwarm', linewidths=0.5)
plt.title('Correlation Matrix Heatmap')
plt.show()



X=melb_data.drop(['Price'],axis=1).drop(['YearBuilt'],axis=1).drop(['Postcode'],axis=1)

y=melb_data['Price']


X


X_train, X_test, y_train, y_test = train_test_split(X,y,test_size=0.2)


train_data=X_train.join(y_train)


X


train_data.hist(figsize=(15,8))


train_data=train_data.select_dtypes(exclude=[object])


train_data.corr()



train_data['Landsize']=np.log(train_data['Landsize']+1)
train_data['Age']=np.log(train_data['Age']+1)
train_data['BedroomRatio']= train_data['Bedroom']/ train_data['Rooms']




train_data.hist(figsize=(15,8))


plt.figure(figsize=(15,8))
sns.heatmap(train_data.corr(),annot=True, cmap="YlGnBu")


from sklearn.tree import DecisionTreeRegressor


X_train,y_train=train_data.drop(['Price'],axis=1), train_data['Price']


reg=LinearRegression()


reg.fit(X_train,y_train)


test_data=X_test.join(y_test)
test_data=test_data.select_dtypes(exclude=[object])
test_data['Landsize']=np.log(test_data['Landsize']+1)
test_data['Age']=np.log(test_data['Age']+1)
test_data['BedroomRatio']= test_data['Bedroom']/ test_data['Rooms']


test_data






X_test,y_test=test_data.drop(['Price'],axis=1),test_data['Price']


reg.score(X_test,y_test)


y_pred = reg.predict(X_test)


mean_squared_error(y_test, y_pred)


r2_score(y_test, y_pred)


mean_absolute_error(y_test,y_pred)




